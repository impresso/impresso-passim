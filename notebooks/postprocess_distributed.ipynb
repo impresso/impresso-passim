{
 "cells": [
  {
   "cell_type": "code",
   "execution_count": 1,
   "metadata": {},
   "outputs": [],
   "source": [
    "import os\n",
    "from dask import dataframe as dd\n",
    "from dask_k8 import DaskCluster\n",
    "from impresso_commons.path.path_s3 import IMPRESSO_STORAGEOPT"
   ]
  },
  {
   "cell_type": "markdown",
   "metadata": {},
   "source": [
    "## Set up the dask/kube cluster"
   ]
  },
  {
   "cell_type": "code",
   "execution_count": 2,
   "metadata": {},
   "outputs": [],
   "source": [
    "kube_cfg = \"\"\"\n",
    "  containers:\n",
    "    - image: daskdev/dask:1.1.5\n",
    "      args: [dask-worker, $(DASK_SCHEDULER_ADDRESS), --nthreads, '1', --no-bokeh, --memory-limit, 5GB, --death-timeout, '120']\n",
    "      imagePullPolicy: Always\n",
    "      name: dask-worker\n",
    "      env:\n",
    "        - name: POD_IP\n",
    "          valueFrom:\n",
    "            fieldRef:\n",
    "              fieldPath: status.podIP\n",
    "        - name: POD_NAME\n",
    "          valueFrom:\n",
    "            fieldRef:\n",
    "              fieldPath: metadata.name\n",
    "        - name: EXTRA_PIP_PACKAGES\n",
    "          value: s3fs\n",
    "        - name: EXTRA_CONDA_PACKAGES\n",
    "          value:\n",
    "        - name: SE_ACCESS_KEY\n",
    "          value: {}\n",
    "        - name: SE_SECRET_KEY\n",
    "          value: {}\n",
    "      resources:\n",
    "        requests:\n",
    "          cpu: 1\n",
    "          memory: \"5G\"\n",
    "        limits:\n",
    "          cpu: 1\n",
    "          memory: \"5G\"\n",
    "      volumeMounts:\n",
    "        - mountPath: /scratch\n",
    "          name: scratch\n",
    "          subPath: romanell\n",
    "  volumes:\n",
    "    - name: scratch\n",
    "      persistentVolumeClaim:\n",
    "        claimName: dhlab-scratch\n",
    "\"\"\".format(\n",
    "    os.environ[\"SE_ACCESS_KEY\"],\n",
    "    os.environ[\"SE_SECRET_KEY\"]\n",
    ")"
   ]
  },
  {
   "cell_type": "code",
   "execution_count": 3,
   "metadata": {},
   "outputs": [],
   "source": [
    "cluster = DaskCluster(namespace=\"dhlab\", cluster_id=\"matteo-dask\", worker_pod_spec=kube_cfg)"
   ]
  },
  {
   "cell_type": "code",
   "execution_count": 4,
   "metadata": {},
   "outputs": [
    {
     "name": "stdout",
     "output_type": "stream",
     "text": [
      "Scheduler: tcp://10.90.47.35:25803\n",
      "Dashboard: http://10.90.47.35:24360\n",
      "Currently 3 workers out of the 10 required, waiting...\n",
      "Currently 8 workers out of the 10 required, waiting...\n",
      "Reached the desired 10 workers!\n"
     ]
    }
   ],
   "source": [
    "cluster.create()\n",
    "cluster.scale(10)"
   ]
  },
  {
   "cell_type": "markdown",
   "metadata": {},
   "source": [
    "## Read in passim data"
   ]
  },
  {
   "cell_type": "code",
   "execution_count": 5,
   "metadata": {},
   "outputs": [],
   "source": [
    "client = cluster.make_dask_client()"
   ]
  },
  {
   "cell_type": "code",
   "execution_count": 13,
   "metadata": {},
   "outputs": [],
   "source": [
    "input_bucket = \"s3://processed-canonical-data/text-reuse/\"\n",
    "path_to_data = \"test/out.json/\""
   ]
  },
  {
   "cell_type": "code",
   "execution_count": 14,
   "metadata": {},
   "outputs": [],
   "source": [
    "df = dd.read_json(\n",
    "    f\"{os.path.join(input_bucket, path_to_data)}*.json\", \n",
    "    storage_options=IMPRESSO_STORAGEOPT\n",
    ")"
   ]
  },
  {
   "cell_type": "code",
   "execution_count": 15,
   "metadata": {},
   "outputs": [
    {
     "data": {
      "text/html": [
       "<div><strong>Dask DataFrame Structure:</strong></div>\n",
       "<div>\n",
       "<style scoped>\n",
       "    .dataframe tbody tr th:only-of-type {\n",
       "        vertical-align: middle;\n",
       "    }\n",
       "\n",
       "    .dataframe tbody tr th {\n",
       "        vertical-align: top;\n",
       "    }\n",
       "\n",
       "    .dataframe thead th {\n",
       "        text-align: right;\n",
       "    }\n",
       "</style>\n",
       "<table border=\"1\" class=\"dataframe\">\n",
       "  <thead>\n",
       "    <tr style=\"text-align: right;\">\n",
       "      <th></th>\n",
       "      <th>begin</th>\n",
       "      <th>cc</th>\n",
       "      <th>cluster</th>\n",
       "      <th>date</th>\n",
       "      <th>end</th>\n",
       "      <th>gid</th>\n",
       "      <th>id</th>\n",
       "      <th>pages</th>\n",
       "      <th>series</th>\n",
       "      <th>size</th>\n",
       "      <th>text</th>\n",
       "      <th>title</th>\n",
       "      <th>uid</th>\n",
       "    </tr>\n",
       "    <tr>\n",
       "      <th>npartitions=705</th>\n",
       "      <th></th>\n",
       "      <th></th>\n",
       "      <th></th>\n",
       "      <th></th>\n",
       "      <th></th>\n",
       "      <th></th>\n",
       "      <th></th>\n",
       "      <th></th>\n",
       "      <th></th>\n",
       "      <th></th>\n",
       "      <th></th>\n",
       "      <th></th>\n",
       "      <th></th>\n",
       "    </tr>\n",
       "  </thead>\n",
       "  <tbody>\n",
       "    <tr>\n",
       "      <th></th>\n",
       "      <td>int64</td>\n",
       "      <td>bool</td>\n",
       "      <td>int64</td>\n",
       "      <td>datetime64[ns]</td>\n",
       "      <td>int64</td>\n",
       "      <td>int64</td>\n",
       "      <td>object</td>\n",
       "      <td>object</td>\n",
       "      <td>object</td>\n",
       "      <td>int64</td>\n",
       "      <td>object</td>\n",
       "      <td>object</td>\n",
       "      <td>int64</td>\n",
       "    </tr>\n",
       "    <tr>\n",
       "      <th></th>\n",
       "      <td>...</td>\n",
       "      <td>...</td>\n",
       "      <td>...</td>\n",
       "      <td>...</td>\n",
       "      <td>...</td>\n",
       "      <td>...</td>\n",
       "      <td>...</td>\n",
       "      <td>...</td>\n",
       "      <td>...</td>\n",
       "      <td>...</td>\n",
       "      <td>...</td>\n",
       "      <td>...</td>\n",
       "      <td>...</td>\n",
       "    </tr>\n",
       "    <tr>\n",
       "      <th>...</th>\n",
       "      <td>...</td>\n",
       "      <td>...</td>\n",
       "      <td>...</td>\n",
       "      <td>...</td>\n",
       "      <td>...</td>\n",
       "      <td>...</td>\n",
       "      <td>...</td>\n",
       "      <td>...</td>\n",
       "      <td>...</td>\n",
       "      <td>...</td>\n",
       "      <td>...</td>\n",
       "      <td>...</td>\n",
       "      <td>...</td>\n",
       "    </tr>\n",
       "    <tr>\n",
       "      <th></th>\n",
       "      <td>...</td>\n",
       "      <td>...</td>\n",
       "      <td>...</td>\n",
       "      <td>...</td>\n",
       "      <td>...</td>\n",
       "      <td>...</td>\n",
       "      <td>...</td>\n",
       "      <td>...</td>\n",
       "      <td>...</td>\n",
       "      <td>...</td>\n",
       "      <td>...</td>\n",
       "      <td>...</td>\n",
       "      <td>...</td>\n",
       "    </tr>\n",
       "    <tr>\n",
       "      <th></th>\n",
       "      <td>...</td>\n",
       "      <td>...</td>\n",
       "      <td>...</td>\n",
       "      <td>...</td>\n",
       "      <td>...</td>\n",
       "      <td>...</td>\n",
       "      <td>...</td>\n",
       "      <td>...</td>\n",
       "      <td>...</td>\n",
       "      <td>...</td>\n",
       "      <td>...</td>\n",
       "      <td>...</td>\n",
       "      <td>...</td>\n",
       "    </tr>\n",
       "  </tbody>\n",
       "</table>\n",
       "</div>\n",
       "<div>Dask Name: from-delayed, 1410 tasks</div>"
      ],
      "text/plain": [
       "Dask DataFrame Structure:\n",
       "                 begin    cc cluster            date    end    gid      id   pages  series   size    text   title    uid\n",
       "npartitions=705                                                                                                         \n",
       "                 int64  bool   int64  datetime64[ns]  int64  int64  object  object  object  int64  object  object  int64\n",
       "                   ...   ...     ...             ...    ...    ...     ...     ...     ...    ...     ...     ...    ...\n",
       "...                ...   ...     ...             ...    ...    ...     ...     ...     ...    ...     ...     ...    ...\n",
       "                   ...   ...     ...             ...    ...    ...     ...     ...     ...    ...     ...     ...    ...\n",
       "                   ...   ...     ...             ...    ...    ...     ...     ...     ...    ...     ...     ...    ...\n",
       "Dask Name: from-delayed, 1410 tasks"
      ]
     },
     "execution_count": 15,
     "metadata": {},
     "output_type": "execute_result"
    }
   ],
   "source": [
    "df"
   ]
  },
  {
   "cell_type": "code",
   "execution_count": 10,
   "metadata": {},
   "outputs": [],
   "source": [
    "n_rows_future, n_cols = df.shape"
   ]
  },
  {
   "cell_type": "code",
   "execution_count": 11,
   "metadata": {},
   "outputs": [
    {
     "data": {
      "text/plain": [
       "1170211"
      ]
     },
     "execution_count": 11,
     "metadata": {},
     "output_type": "execute_result"
    }
   ],
   "source": [
    "n_rows_future.compute()"
   ]
  },
  {
   "cell_type": "code",
   "execution_count": 14,
   "metadata": {},
   "outputs": [
    {
     "data": {
      "text/html": [
       "<div>\n",
       "<style scoped>\n",
       "    .dataframe tbody tr th:only-of-type {\n",
       "        vertical-align: middle;\n",
       "    }\n",
       "\n",
       "    .dataframe tbody tr th {\n",
       "        vertical-align: top;\n",
       "    }\n",
       "\n",
       "    .dataframe thead th {\n",
       "        text-align: right;\n",
       "    }\n",
       "</style>\n",
       "<table border=\"1\" class=\"dataframe\">\n",
       "  <thead>\n",
       "    <tr style=\"text-align: right;\">\n",
       "      <th></th>\n",
       "      <th>begin</th>\n",
       "      <th>cc</th>\n",
       "      <th>cluster</th>\n",
       "      <th>date</th>\n",
       "      <th>end</th>\n",
       "      <th>gid</th>\n",
       "      <th>id</th>\n",
       "      <th>pages</th>\n",
       "      <th>series</th>\n",
       "      <th>size</th>\n",
       "      <th>text</th>\n",
       "      <th>title</th>\n",
       "      <th>uid</th>\n",
       "    </tr>\n",
       "  </thead>\n",
       "  <tbody>\n",
       "    <tr>\n",
       "      <th>0</th>\n",
       "      <td>1670</td>\n",
       "      <td>True</td>\n",
       "      <td>32</td>\n",
       "      <td>1937-10-09</td>\n",
       "      <td>2151</td>\n",
       "      <td>7980028469543413257</td>\n",
       "      <td>IMP-1937-10-09-a-i0064</td>\n",
       "      <td>[{'id': 'IMP-1937-10-09-a-p0005', 'seq': 5, 'r...</td>\n",
       "      <td>IMP</td>\n",
       "      <td>80757</td>\n",
       "      <td>Dimanche 10 octobre\\nRadio Suisse romande : 9,...</td>\n",
       "      <td>r^T ftAD/OPJJOMQÙE</td>\n",
       "      <td>-1539987974230298909</td>\n",
       "    </tr>\n",
       "    <tr>\n",
       "      <th>1</th>\n",
       "      <td>1968</td>\n",
       "      <td>True</td>\n",
       "      <td>32</td>\n",
       "      <td>1938-05-28</td>\n",
       "      <td>2484</td>\n",
       "      <td>7980028469543413257</td>\n",
       "      <td>IMP-1938-05-28-a-i0110</td>\n",
       "      <td>[{'id': 'IMP-1938-05-28-a-p0009', 'seq': 9, 'r...</td>\n",
       "      <td>IMP</td>\n",
       "      <td>80757</td>\n",
       "      <td>Causerie religieuse protestante. 19,30 Inter-\\...</td>\n",
       "      <td>'Q&amp;^ CHRONIQUE ^7 XAD/OPUOM/QUE</td>\n",
       "      <td>7517102616924565393</td>\n",
       "    </tr>\n",
       "    <tr>\n",
       "      <th>2</th>\n",
       "      <td>1931</td>\n",
       "      <td>True</td>\n",
       "      <td>32</td>\n",
       "      <td>1938-11-19</td>\n",
       "      <td>2643</td>\n",
       "      <td>7980028469543413257</td>\n",
       "      <td>IMP-1938-11-19-a-i0054</td>\n",
       "      <td>[{'id': 'IMP-1938-11-19-a-p0005', 'seq': 5, 'r...</td>\n",
       "      <td>IMP</td>\n",
       "      <td>80757</td>\n",
       "      <td>Dimanche 20 novembre\\nRadio Suisse romande : 9...</td>\n",
       "      <td>^M^ ^ CHRONIQUE 'rS? AAD/OP/JON/QUE</td>\n",
       "      <td>6256214283358341920</td>\n",
       "    </tr>\n",
       "    <tr>\n",
       "      <th>3</th>\n",
       "      <td>1787</td>\n",
       "      <td>True</td>\n",
       "      <td>32</td>\n",
       "      <td>1938-12-03</td>\n",
       "      <td>2424</td>\n",
       "      <td>7980028469543413257</td>\n",
       "      <td>IMP-1938-12-03-a-i0053</td>\n",
       "      <td>[{'id': 'IMP-1938-12-03-a-p0005', 'seq': 5, 'r...</td>\n",
       "      <td>IMP</td>\n",
       "      <td>80757</td>\n",
       "      <td>danse.\\nDimanche 4 décembre\\nRadio Suisse roma...</td>\n",
       "      <td>£fe£ûl| CHRONIQUE r&amp;lt;&amp;gt;% RADIOPUONIQUE</td>\n",
       "      <td>5223345348506941832</td>\n",
       "    </tr>\n",
       "    <tr>\n",
       "      <th>4</th>\n",
       "      <td>2293</td>\n",
       "      <td>True</td>\n",
       "      <td>32</td>\n",
       "      <td>1938-12-10</td>\n",
       "      <td>3084</td>\n",
       "      <td>7980028469543413257</td>\n",
       "      <td>IMP-1938-12-10-a-i0089</td>\n",
       "      <td>[{'id': 'IMP-1938-12-10-a-p0007', 'seq': 7, 'r...</td>\n",
       "      <td>IMP</td>\n",
       "      <td>80757</td>\n",
       "      <td>gelées- 12,10 Le disque préféré de\\nl'auditeur...</td>\n",
       "      <td>Q^^ CHRONIQUt r *7 P/ \\ MO PU ON IQ Ut</td>\n",
       "      <td>-6034121963586273416</td>\n",
       "    </tr>\n",
       "  </tbody>\n",
       "</table>\n",
       "</div>"
      ],
      "text/plain": [
       "   begin    cc  cluster       date   end                  gid  \\\n",
       "0   1670  True       32 1937-10-09  2151  7980028469543413257   \n",
       "1   1968  True       32 1938-05-28  2484  7980028469543413257   \n",
       "2   1931  True       32 1938-11-19  2643  7980028469543413257   \n",
       "3   1787  True       32 1938-12-03  2424  7980028469543413257   \n",
       "4   2293  True       32 1938-12-10  3084  7980028469543413257   \n",
       "\n",
       "                       id                                              pages  \\\n",
       "0  IMP-1937-10-09-a-i0064  [{'id': 'IMP-1937-10-09-a-p0005', 'seq': 5, 'r...   \n",
       "1  IMP-1938-05-28-a-i0110  [{'id': 'IMP-1938-05-28-a-p0009', 'seq': 9, 'r...   \n",
       "2  IMP-1938-11-19-a-i0054  [{'id': 'IMP-1938-11-19-a-p0005', 'seq': 5, 'r...   \n",
       "3  IMP-1938-12-03-a-i0053  [{'id': 'IMP-1938-12-03-a-p0005', 'seq': 5, 'r...   \n",
       "4  IMP-1938-12-10-a-i0089  [{'id': 'IMP-1938-12-10-a-p0007', 'seq': 7, 'r...   \n",
       "\n",
       "  series   size                                               text  \\\n",
       "0    IMP  80757  Dimanche 10 octobre\\nRadio Suisse romande : 9,...   \n",
       "1    IMP  80757  Causerie religieuse protestante. 19,30 Inter-\\...   \n",
       "2    IMP  80757  Dimanche 20 novembre\\nRadio Suisse romande : 9...   \n",
       "3    IMP  80757  danse.\\nDimanche 4 décembre\\nRadio Suisse roma...   \n",
       "4    IMP  80757  gelées- 12,10 Le disque préféré de\\nl'auditeur...   \n",
       "\n",
       "                                        title                  uid  \n",
       "0                          r^T ftAD/OPJJOMQÙE -1539987974230298909  \n",
       "1             'Q&^ CHRONIQUE ^7 XAD/OPUOM/QUE  7517102616924565393  \n",
       "2         ^M^ ^ CHRONIQUE 'rS? AAD/OP/JON/QUE  6256214283358341920  \n",
       "3  £fe£ûl| CHRONIQUE r&lt;&gt;% RADIOPUONIQUE  5223345348506941832  \n",
       "4      Q^^ CHRONIQUt r *7 P/ \\ MO PU ON IQ Ut -6034121963586273416  "
      ]
     },
     "execution_count": 14,
     "metadata": {},
     "output_type": "execute_result"
    }
   ],
   "source": [
    "df.head()"
   ]
  },
  {
   "cell_type": "code",
   "execution_count": 22,
   "metadata": {},
   "outputs": [
    {
     "data": {
      "text/plain": [
       "705"
      ]
     },
     "execution_count": 22,
     "metadata": {},
     "output_type": "execute_result"
    }
   ],
   "source": [
    "df.npartitions"
   ]
  },
  {
   "cell_type": "code",
   "execution_count": 23,
   "metadata": {},
   "outputs": [
    {
     "name": "stdout",
     "output_type": "stream",
     "text": [
      "<class 'dask.dataframe.core.DataFrame'>\n",
      "Columns: 13 entries, begin to uid\n",
      "dtypes: datetime64[ns](1), object(5), bool(1), int64(6)"
     ]
    }
   ],
   "source": [
    "df.info()"
   ]
  },
  {
   "cell_type": "markdown",
   "metadata": {},
   "source": [
    "## Release resources"
   ]
  },
  {
   "cell_type": "code",
   "execution_count": null,
   "metadata": {},
   "outputs": [],
   "source": [
    "cluster.close()"
   ]
  }
 ],
 "metadata": {
  "kernelspec": {
   "display_name": "Python 3",
   "language": "python",
   "name": "python3"
  },
  "language_info": {
   "codemirror_mode": {
    "name": "ipython",
    "version": 3
   },
   "file_extension": ".py",
   "mimetype": "text/x-python",
   "name": "python",
   "nbconvert_exporter": "python",
   "pygments_lexer": "ipython3",
   "version": "3.6.0"
  }
 },
 "nbformat": 4,
 "nbformat_minor": 2
}
