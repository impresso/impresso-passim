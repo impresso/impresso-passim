{
 "cells": [
  {
   "cell_type": "markdown",
   "metadata": {},
   "source": [
    "# Initialisation"
   ]
  },
  {
   "cell_type": "code",
   "execution_count": 1,
   "metadata": {},
   "outputs": [],
   "source": [
    "import pandas as pd\n",
    "import pyarrow.parquet as pq\n",
    "import random\n",
    "import numpy as np\n",
    "import seaborn as sns"
   ]
  },
  {
   "cell_type": "code",
   "execution_count": 2,
   "metadata": {},
   "outputs": [
    {
     "name": "stdout",
     "output_type": "stream",
     "text": [
      "Ignoring path: ./data/passim_output.parquet/.part-00142-99958234-2046-42a1-a219-16e6daa3408f-c000.snappy.parquet.crc\n",
      "Ignoring path: ./data/passim_output.parquet/.part-00044-99958234-2046-42a1-a219-16e6daa3408f-c000.snappy.parquet.crc\n",
      "Ignoring path: ./data/passim_output.parquet/.part-00158-99958234-2046-42a1-a219-16e6daa3408f-c000.snappy.parquet.crc\n",
      "Ignoring path: ./data/passim_output.parquet/.part-00016-99958234-2046-42a1-a219-16e6daa3408f-c000.snappy.parquet.crc\n",
      "Ignoring path: ./data/passim_output.parquet/.part-00175-99958234-2046-42a1-a219-16e6daa3408f-c000.snappy.parquet.crc\n",
      "Ignoring path: ./data/passim_output.parquet/.part-00165-99958234-2046-42a1-a219-16e6daa3408f-c000.snappy.parquet.crc\n",
      "Ignoring path: ./data/passim_output.parquet/.part-00134-99958234-2046-42a1-a219-16e6daa3408f-c000.snappy.parquet.crc\n",
      "Ignoring path: ./data/passim_output.parquet/.part-00196-99958234-2046-42a1-a219-16e6daa3408f-c000.snappy.parquet.crc\n",
      "Ignoring path: ./data/passim_output.parquet/.part-00152-99958234-2046-42a1-a219-16e6daa3408f-c000.snappy.parquet.crc\n",
      "Ignoring path: ./data/passim_output.parquet/.part-00173-99958234-2046-42a1-a219-16e6daa3408f-c000.snappy.parquet.crc\n",
      "Ignoring path: ./data/passim_output.parquet/.part-00147-99958234-2046-42a1-a219-16e6daa3408f-c000.snappy.parquet.crc\n",
      "Ignoring path: ./data/passim_output.parquet/.part-00188-99958234-2046-42a1-a219-16e6daa3408f-c000.snappy.parquet.crc\n",
      "Ignoring path: ./data/passim_output.parquet/.part-00007-99958234-2046-42a1-a219-16e6daa3408f-c000.snappy.parquet.crc\n",
      "Ignoring path: ./data/passim_output.parquet/.part-00184-99958234-2046-42a1-a219-16e6daa3408f-c000.snappy.parquet.crc\n",
      "Ignoring path: ./data/passim_output.parquet/.part-00037-99958234-2046-42a1-a219-16e6daa3408f-c000.snappy.parquet.crc\n",
      "Ignoring path: ./data/passim_output.parquet/.part-00138-99958234-2046-42a1-a219-16e6daa3408f-c000.snappy.parquet.crc\n",
      "Ignoring path: ./data/passim_output.parquet/.part-00053-99958234-2046-42a1-a219-16e6daa3408f-c000.snappy.parquet.crc\n",
      "Ignoring path: ./data/passim_output.parquet/.part-00025-99958234-2046-42a1-a219-16e6daa3408f-c000.snappy.parquet.crc\n",
      "Ignoring path: ./data/passim_output.parquet/.part-00076-99958234-2046-42a1-a219-16e6daa3408f-c000.snappy.parquet.crc\n",
      "Ignoring path: ./data/passim_output.parquet/.part-00146-99958234-2046-42a1-a219-16e6daa3408f-c000.snappy.parquet.crc\n",
      "Ignoring path: ./data/passim_output.parquet/.part-00143-99958234-2046-42a1-a219-16e6daa3408f-c000.snappy.parquet.crc\n",
      "Ignoring path: ./data/passim_output.parquet/.part-00055-99958234-2046-42a1-a219-16e6daa3408f-c000.snappy.parquet.crc\n",
      "Ignoring path: ./data/passim_output.parquet/.part-00181-99958234-2046-42a1-a219-16e6daa3408f-c000.snappy.parquet.crc\n",
      "Ignoring path: ./data/passim_output.parquet/.part-00130-99958234-2046-42a1-a219-16e6daa3408f-c000.snappy.parquet.crc\n",
      "Ignoring path: ./data/passim_output.parquet/.part-00157-99958234-2046-42a1-a219-16e6daa3408f-c000.snappy.parquet.crc\n",
      "Ignoring path: ./data/passim_output.parquet/.part-00069-99958234-2046-42a1-a219-16e6daa3408f-c000.snappy.parquet.crc\n",
      "Ignoring path: ./data/passim_output.parquet/.part-00045-99958234-2046-42a1-a219-16e6daa3408f-c000.snappy.parquet.crc\n",
      "Ignoring path: ./data/passim_output.parquet/.part-00137-99958234-2046-42a1-a219-16e6daa3408f-c000.snappy.parquet.crc\n",
      "Ignoring path: ./data/passim_output.parquet/.part-00155-99958234-2046-42a1-a219-16e6daa3408f-c000.snappy.parquet.crc\n",
      "Ignoring path: ./data/passim_output.parquet/.part-00183-99958234-2046-42a1-a219-16e6daa3408f-c000.snappy.parquet.crc\n",
      "Ignoring path: ./data/passim_output.parquet/.part-00062-99958234-2046-42a1-a219-16e6daa3408f-c000.snappy.parquet.crc\n",
      "Ignoring path: ./data/passim_output.parquet/.part-00112-99958234-2046-42a1-a219-16e6daa3408f-c000.snappy.parquet.crc\n",
      "Ignoring path: ./data/passim_output.parquet/.part-00050-99958234-2046-42a1-a219-16e6daa3408f-c000.snappy.parquet.crc\n",
      "Ignoring path: ./data/passim_output.parquet/.part-00014-99958234-2046-42a1-a219-16e6daa3408f-c000.snappy.parquet.crc\n",
      "Ignoring path: ./data/passim_output.parquet/.part-00185-99958234-2046-42a1-a219-16e6daa3408f-c000.snappy.parquet.crc\n",
      "Ignoring path: ./data/passim_output.parquet/.part-00133-99958234-2046-42a1-a219-16e6daa3408f-c000.snappy.parquet.crc\n",
      "Ignoring path: ./data/passim_output.parquet/.part-00077-99958234-2046-42a1-a219-16e6daa3408f-c000.snappy.parquet.crc\n",
      "Ignoring path: ./data/passim_output.parquet/.part-00017-99958234-2046-42a1-a219-16e6daa3408f-c000.snappy.parquet.crc\n",
      "Ignoring path: ./data/passim_output.parquet/.part-00193-99958234-2046-42a1-a219-16e6daa3408f-c000.snappy.parquet.crc\n",
      "Ignoring path: ./data/passim_output.parquet/.part-00047-99958234-2046-42a1-a219-16e6daa3408f-c000.snappy.parquet.crc\n",
      "Ignoring path: ./data/passim_output.parquet/.part-00084-99958234-2046-42a1-a219-16e6daa3408f-c000.snappy.parquet.crc\n",
      "Ignoring path: ./data/passim_output.parquet/.part-00192-99958234-2046-42a1-a219-16e6daa3408f-c000.snappy.parquet.crc\n",
      "Ignoring path: ./data/passim_output.parquet/.part-00000-99958234-2046-42a1-a219-16e6daa3408f-c000.snappy.parquet.crc\n",
      "Ignoring path: ./data/passim_output.parquet/.part-00058-99958234-2046-42a1-a219-16e6daa3408f-c000.snappy.parquet.crc\n",
      "Ignoring path: ./data/passim_output.parquet/.part-00091-99958234-2046-42a1-a219-16e6daa3408f-c000.snappy.parquet.crc\n",
      "Ignoring path: ./data/passim_output.parquet/.part-00167-99958234-2046-42a1-a219-16e6daa3408f-c000.snappy.parquet.crc\n",
      "Ignoring path: ./data/passim_output.parquet/.part-00074-99958234-2046-42a1-a219-16e6daa3408f-c000.snappy.parquet.crc\n",
      "Ignoring path: ./data/passim_output.parquet/.part-00066-99958234-2046-42a1-a219-16e6daa3408f-c000.snappy.parquet.crc\n",
      "Ignoring path: ./data/passim_output.parquet/.part-00170-99958234-2046-42a1-a219-16e6daa3408f-c000.snappy.parquet.crc\n",
      "Ignoring path: ./data/passim_output.parquet/.part-00128-99958234-2046-42a1-a219-16e6daa3408f-c000.snappy.parquet.crc\n",
      "Ignoring path: ./data/passim_output.parquet/.part-00197-99958234-2046-42a1-a219-16e6daa3408f-c000.snappy.parquet.crc\n",
      "Ignoring path: ./data/passim_output.parquet/.part-00160-99958234-2046-42a1-a219-16e6daa3408f-c000.snappy.parquet.crc\n",
      "Ignoring path: ./data/passim_output.parquet/.part-00052-99958234-2046-42a1-a219-16e6daa3408f-c000.snappy.parquet.crc\n",
      "Ignoring path: ./data/passim_output.parquet/.part-00083-99958234-2046-42a1-a219-16e6daa3408f-c000.snappy.parquet.crc\n",
      "Ignoring path: ./data/passim_output.parquet/.part-00126-99958234-2046-42a1-a219-16e6daa3408f-c000.snappy.parquet.crc\n",
      "Ignoring path: ./data/passim_output.parquet/.part-00064-99958234-2046-42a1-a219-16e6daa3408f-c000.snappy.parquet.crc\n",
      "Ignoring path: ./data/passim_output.parquet/.part-00031-99958234-2046-42a1-a219-16e6daa3408f-c000.snappy.parquet.crc\n",
      "Ignoring path: ./data/passim_output.parquet/.part-00088-99958234-2046-42a1-a219-16e6daa3408f-c000.snappy.parquet.crc\n",
      "Ignoring path: ./data/passim_output.parquet/.part-00078-99958234-2046-42a1-a219-16e6daa3408f-c000.snappy.parquet.crc\n",
      "Ignoring path: ./data/passim_output.parquet/.part-00097-99958234-2046-42a1-a219-16e6daa3408f-c000.snappy.parquet.crc\n",
      "Ignoring path: ./data/passim_output.parquet/.part-00144-99958234-2046-42a1-a219-16e6daa3408f-c000.snappy.parquet.crc\n",
      "Ignoring path: ./data/passim_output.parquet/.part-00108-99958234-2046-42a1-a219-16e6daa3408f-c000.snappy.parquet.crc\n",
      "Ignoring path: ./data/passim_output.parquet/.part-00195-99958234-2046-42a1-a219-16e6daa3408f-c000.snappy.parquet.crc\n",
      "Ignoring path: ./data/passim_output.parquet/.part-00199-99958234-2046-42a1-a219-16e6daa3408f-c000.snappy.parquet.crc\n",
      "Ignoring path: ./data/passim_output.parquet/.part-00098-99958234-2046-42a1-a219-16e6daa3408f-c000.snappy.parquet.crc\n",
      "Ignoring path: ./data/passim_output.parquet/.part-00113-99958234-2046-42a1-a219-16e6daa3408f-c000.snappy.parquet.crc\n",
      "Ignoring path: ./data/passim_output.parquet/.part-00028-99958234-2046-42a1-a219-16e6daa3408f-c000.snappy.parquet.crc\n",
      "Ignoring path: ./data/passim_output.parquet/.part-00004-99958234-2046-42a1-a219-16e6daa3408f-c000.snappy.parquet.crc\n",
      "Ignoring path: ./data/passim_output.parquet/.part-00166-99958234-2046-42a1-a219-16e6daa3408f-c000.snappy.parquet.crc\n",
      "Ignoring path: ./data/passim_output.parquet/.part-00095-99958234-2046-42a1-a219-16e6daa3408f-c000.snappy.parquet.crc\n",
      "Ignoring path: ./data/passim_output.parquet/.part-00039-99958234-2046-42a1-a219-16e6daa3408f-c000.snappy.parquet.crc\n",
      "Ignoring path: ./data/passim_output.parquet/.part-00030-99958234-2046-42a1-a219-16e6daa3408f-c000.snappy.parquet.crc\n",
      "Ignoring path: ./data/passim_output.parquet/.part-00198-99958234-2046-42a1-a219-16e6daa3408f-c000.snappy.parquet.crc\n",
      "Ignoring path: ./data/passim_output.parquet/.part-00009-99958234-2046-42a1-a219-16e6daa3408f-c000.snappy.parquet.crc\n",
      "Ignoring path: ./data/passim_output.parquet/.part-00056-99958234-2046-42a1-a219-16e6daa3408f-c000.snappy.parquet.crc\n",
      "Ignoring path: ./data/passim_output.parquet/.part-00035-99958234-2046-42a1-a219-16e6daa3408f-c000.snappy.parquet.crc\n",
      "Ignoring path: ./data/passim_output.parquet/.part-00156-99958234-2046-42a1-a219-16e6daa3408f-c000.snappy.parquet.crc\n",
      "Ignoring path: ./data/passim_output.parquet/.part-00132-99958234-2046-42a1-a219-16e6daa3408f-c000.snappy.parquet.crc\n",
      "Ignoring path: ./data/passim_output.parquet/.part-00038-99958234-2046-42a1-a219-16e6daa3408f-c000.snappy.parquet.crc\n",
      "Ignoring path: ./data/passim_output.parquet/.part-00159-99958234-2046-42a1-a219-16e6daa3408f-c000.snappy.parquet.crc\n",
      "Ignoring path: ./data/passim_output.parquet/.part-00136-99958234-2046-42a1-a219-16e6daa3408f-c000.snappy.parquet.crc\n",
      "Ignoring path: ./data/passim_output.parquet/.part-00001-99958234-2046-42a1-a219-16e6daa3408f-c000.snappy.parquet.crc\n",
      "Ignoring path: ./data/passim_output.parquet/.part-00051-99958234-2046-42a1-a219-16e6daa3408f-c000.snappy.parquet.crc\n",
      "Ignoring path: ./data/passim_output.parquet/.part-00075-99958234-2046-42a1-a219-16e6daa3408f-c000.snappy.parquet.crc\n",
      "Ignoring path: ./data/passim_output.parquet/.part-00105-99958234-2046-42a1-a219-16e6daa3408f-c000.snappy.parquet.crc\n",
      "Ignoring path: ./data/passim_output.parquet/.part-00140-99958234-2046-42a1-a219-16e6daa3408f-c000.snappy.parquet.crc\n",
      "Ignoring path: ./data/passim_output.parquet/.part-00127-99958234-2046-42a1-a219-16e6daa3408f-c000.snappy.parquet.crc\n",
      "Ignoring path: ./data/passim_output.parquet/.part-00118-99958234-2046-42a1-a219-16e6daa3408f-c000.snappy.parquet.crc\n",
      "Ignoring path: ./data/passim_output.parquet/.part-00096-99958234-2046-42a1-a219-16e6daa3408f-c000.snappy.parquet.crc\n",
      "Ignoring path: ./data/passim_output.parquet/.part-00103-99958234-2046-42a1-a219-16e6daa3408f-c000.snappy.parquet.crc\n",
      "Ignoring path: ./data/passim_output.parquet/.part-00080-99958234-2046-42a1-a219-16e6daa3408f-c000.snappy.parquet.crc\n",
      "Ignoring path: ./data/passim_output.parquet/.part-00024-99958234-2046-42a1-a219-16e6daa3408f-c000.snappy.parquet.crc\n",
      "Ignoring path: ./data/passim_output.parquet/.part-00189-99958234-2046-42a1-a219-16e6daa3408f-c000.snappy.parquet.crc\n",
      "Ignoring path: ./data/passim_output.parquet/.part-00171-99958234-2046-42a1-a219-16e6daa3408f-c000.snappy.parquet.crc\n",
      "Ignoring path: ./data/passim_output.parquet/.part-00153-99958234-2046-42a1-a219-16e6daa3408f-c000.snappy.parquet.crc\n",
      "Ignoring path: ./data/passim_output.parquet/.part-00154-99958234-2046-42a1-a219-16e6daa3408f-c000.snappy.parquet.crc\n",
      "Ignoring path: ./data/passim_output.parquet/_SUCCESS\n",
      "Ignoring path: ./data/passim_output.parquet/.part-00070-99958234-2046-42a1-a219-16e6daa3408f-c000.snappy.parquet.crc\n",
      "Ignoring path: ./data/passim_output.parquet/.part-00011-99958234-2046-42a1-a219-16e6daa3408f-c000.snappy.parquet.crc\n",
      "Ignoring path: ./data/passim_output.parquet/.part-00072-99958234-2046-42a1-a219-16e6daa3408f-c000.snappy.parquet.crc\n",
      "Ignoring path: ./data/passim_output.parquet/.part-00114-99958234-2046-42a1-a219-16e6daa3408f-c000.snappy.parquet.crc\n",
      "Ignoring path: ./data/passim_output.parquet/.part-00187-99958234-2046-42a1-a219-16e6daa3408f-c000.snappy.parquet.crc\n",
      "Ignoring path: ./data/passim_output.parquet/.part-00148-99958234-2046-42a1-a219-16e6daa3408f-c000.snappy.parquet.crc\n",
      "Ignoring path: ./data/passim_output.parquet/.part-00067-99958234-2046-42a1-a219-16e6daa3408f-c000.snappy.parquet.crc\n",
      "Ignoring path: ./data/passim_output.parquet/.part-00006-99958234-2046-42a1-a219-16e6daa3408f-c000.snappy.parquet.crc\n",
      "Ignoring path: ./data/passim_output.parquet/.part-00085-99958234-2046-42a1-a219-16e6daa3408f-c000.snappy.parquet.crc\n",
      "Ignoring path: ./data/passim_output.parquet/.part-00082-99958234-2046-42a1-a219-16e6daa3408f-c000.snappy.parquet.crc\n",
      "Ignoring path: ./data/passim_output.parquet/.part-00182-99958234-2046-42a1-a219-16e6daa3408f-c000.snappy.parquet.crc\n",
      "Ignoring path: ./data/passim_output.parquet/.part-00131-99958234-2046-42a1-a219-16e6daa3408f-c000.snappy.parquet.crc\n",
      "Ignoring path: ./data/passim_output.parquet/.part-00191-99958234-2046-42a1-a219-16e6daa3408f-c000.snappy.parquet.crc\n",
      "Ignoring path: ./data/passim_output.parquet/.part-00063-99958234-2046-42a1-a219-16e6daa3408f-c000.snappy.parquet.crc\n",
      "Ignoring path: ./data/passim_output.parquet/.part-00021-99958234-2046-42a1-a219-16e6daa3408f-c000.snappy.parquet.crc\n",
      "Ignoring path: ./data/passim_output.parquet/.part-00150-99958234-2046-42a1-a219-16e6daa3408f-c000.snappy.parquet.crc\n",
      "Ignoring path: ./data/passim_output.parquet/.part-00013-99958234-2046-42a1-a219-16e6daa3408f-c000.snappy.parquet.crc\n",
      "Ignoring path: ./data/passim_output.parquet/.part-00115-99958234-2046-42a1-a219-16e6daa3408f-c000.snappy.parquet.crc\n",
      "Ignoring path: ./data/passim_output.parquet/.part-00048-99958234-2046-42a1-a219-16e6daa3408f-c000.snappy.parquet.crc\n",
      "Ignoring path: ./data/passim_output.parquet/.part-00180-99958234-2046-42a1-a219-16e6daa3408f-c000.snappy.parquet.crc\n",
      "Ignoring path: ./data/passim_output.parquet/.part-00094-99958234-2046-42a1-a219-16e6daa3408f-c000.snappy.parquet.crc\n",
      "Ignoring path: ./data/passim_output.parquet/.part-00179-99958234-2046-42a1-a219-16e6daa3408f-c000.snappy.parquet.crc\n",
      "Ignoring path: ./data/passim_output.parquet/.part-00027-99958234-2046-42a1-a219-16e6daa3408f-c000.snappy.parquet.crc\n",
      "Ignoring path: ./data/passim_output.parquet/.part-00111-99958234-2046-42a1-a219-16e6daa3408f-c000.snappy.parquet.crc\n",
      "Ignoring path: ./data/passim_output.parquet/.part-00090-99958234-2046-42a1-a219-16e6daa3408f-c000.snappy.parquet.crc\n",
      "Ignoring path: ./data/passim_output.parquet/.part-00019-99958234-2046-42a1-a219-16e6daa3408f-c000.snappy.parquet.crc\n",
      "Ignoring path: ./data/passim_output.parquet/SUCCESS.crc\n",
      "Ignoring path: ./data/passim_output.parquet/.part-00145-99958234-2046-42a1-a219-16e6daa3408f-c000.snappy.parquet.crc\n",
      "Ignoring path: ./data/passim_output.parquet/.part-00079-99958234-2046-42a1-a219-16e6daa3408f-c000.snappy.parquet.crc\n",
      "Ignoring path: ./data/passim_output.parquet/.part-00109-99958234-2046-42a1-a219-16e6daa3408f-c000.snappy.parquet.crc\n",
      "Ignoring path: ./data/passim_output.parquet/.part-00119-99958234-2046-42a1-a219-16e6daa3408f-c000.snappy.parquet.crc\n",
      "Ignoring path: ./data/passim_output.parquet/.part-00015-99958234-2046-42a1-a219-16e6daa3408f-c000.snappy.parquet.crc\n",
      "Ignoring path: ./data/passim_output.parquet/.part-00036-99958234-2046-42a1-a219-16e6daa3408f-c000.snappy.parquet.crc\n",
      "Ignoring path: ./data/passim_output.parquet/.part-00104-99958234-2046-42a1-a219-16e6daa3408f-c000.snappy.parquet.crc\n",
      "Ignoring path: ./data/passim_output.parquet/.part-00042-99958234-2046-42a1-a219-16e6daa3408f-c000.snappy.parquet.crc\n",
      "Ignoring path: ./data/passim_output.parquet/.part-00123-99958234-2046-42a1-a219-16e6daa3408f-c000.snappy.parquet.crc\n",
      "Ignoring path: ./data/passim_output.parquet/.part-00169-99958234-2046-42a1-a219-16e6daa3408f-c000.snappy.parquet.crc\n",
      "Ignoring path: ./data/passim_output.parquet/.part-00163-99958234-2046-42a1-a219-16e6daa3408f-c000.snappy.parquet.crc\n",
      "Ignoring path: ./data/passim_output.parquet/.part-00135-99958234-2046-42a1-a219-16e6daa3408f-c000.snappy.parquet.crc\n",
      "Ignoring path: ./data/passim_output.parquet/.part-00018-99958234-2046-42a1-a219-16e6daa3408f-c000.snappy.parquet.crc\n",
      "Ignoring path: ./data/passim_output.parquet/.part-00186-99958234-2046-42a1-a219-16e6daa3408f-c000.snappy.parquet.crc\n",
      "Ignoring path: ./data/passim_output.parquet/.part-00116-99958234-2046-42a1-a219-16e6daa3408f-c000.snappy.parquet.crc\n",
      "Ignoring path: ./data/passim_output.parquet/.part-00177-99958234-2046-42a1-a219-16e6daa3408f-c000.snappy.parquet.crc\n",
      "Ignoring path: ./data/passim_output.parquet/.part-00065-99958234-2046-42a1-a219-16e6daa3408f-c000.snappy.parquet.crc\n",
      "Ignoring path: ./data/passim_output.parquet/.part-00012-99958234-2046-42a1-a219-16e6daa3408f-c000.snappy.parquet.crc\n",
      "Ignoring path: ./data/passim_output.parquet/.part-00121-99958234-2046-42a1-a219-16e6daa3408f-c000.snappy.parquet.crc\n",
      "Ignoring path: ./data/passim_output.parquet/.part-00022-99958234-2046-42a1-a219-16e6daa3408f-c000.snappy.parquet.crc\n",
      "Ignoring path: ./data/passim_output.parquet/.part-00106-99958234-2046-42a1-a219-16e6daa3408f-c000.snappy.parquet.crc\n",
      "Ignoring path: ./data/passim_output.parquet/.part-00010-99958234-2046-42a1-a219-16e6daa3408f-c000.snappy.parquet.crc\n",
      "Ignoring path: ./data/passim_output.parquet/.part-00117-99958234-2046-42a1-a219-16e6daa3408f-c000.snappy.parquet.crc\n",
      "Ignoring path: ./data/passim_output.parquet/.part-00125-99958234-2046-42a1-a219-16e6daa3408f-c000.snappy.parquet.crc\n",
      "Ignoring path: ./data/passim_output.parquet/.part-00043-99958234-2046-42a1-a219-16e6daa3408f-c000.snappy.parquet.crc\n",
      "Ignoring path: ./data/passim_output.parquet/.part-00178-99958234-2046-42a1-a219-16e6daa3408f-c000.snappy.parquet.crc\n",
      "Ignoring path: ./data/passim_output.parquet/.part-00122-99958234-2046-42a1-a219-16e6daa3408f-c000.snappy.parquet.crc\n",
      "Ignoring path: ./data/passim_output.parquet/.part-00099-99958234-2046-42a1-a219-16e6daa3408f-c000.snappy.parquet.crc\n",
      "Ignoring path: ./data/passim_output.parquet/.part-00100-99958234-2046-42a1-a219-16e6daa3408f-c000.snappy.parquet.crc\n",
      "Ignoring path: ./data/passim_output.parquet/.part-00061-99958234-2046-42a1-a219-16e6daa3408f-c000.snappy.parquet.crc\n",
      "Ignoring path: ./data/passim_output.parquet/.part-00060-99958234-2046-42a1-a219-16e6daa3408f-c000.snappy.parquet.crc\n",
      "Ignoring path: ./data/passim_output.parquet/.part-00089-99958234-2046-42a1-a219-16e6daa3408f-c000.snappy.parquet.crc\n",
      "Ignoring path: ./data/passim_output.parquet/.part-00041-99958234-2046-42a1-a219-16e6daa3408f-c000.snappy.parquet.crc\n",
      "Ignoring path: ./data/passim_output.parquet/.part-00003-99958234-2046-42a1-a219-16e6daa3408f-c000.snappy.parquet.crc\n",
      "Ignoring path: ./data/passim_output.parquet/.part-00149-99958234-2046-42a1-a219-16e6daa3408f-c000.snappy.parquet.crc\n",
      "Ignoring path: ./data/passim_output.parquet/.part-00110-99958234-2046-42a1-a219-16e6daa3408f-c000.snappy.parquet.crc\n",
      "Ignoring path: ./data/passim_output.parquet/.part-00073-99958234-2046-42a1-a219-16e6daa3408f-c000.snappy.parquet.crc\n",
      "Ignoring path: ./data/passim_output.parquet/.part-00033-99958234-2046-42a1-a219-16e6daa3408f-c000.snappy.parquet.crc\n",
      "Ignoring path: ./data/passim_output.parquet/.part-00102-99958234-2046-42a1-a219-16e6daa3408f-c000.snappy.parquet.crc\n",
      "Ignoring path: ./data/passim_output.parquet/.part-00040-99958234-2046-42a1-a219-16e6daa3408f-c000.snappy.parquet.crc\n",
      "Ignoring path: ./data/passim_output.parquet/.part-00002-99958234-2046-42a1-a219-16e6daa3408f-c000.snappy.parquet.crc\n",
      "Ignoring path: ./data/passim_output.parquet/.part-00057-99958234-2046-42a1-a219-16e6daa3408f-c000.snappy.parquet.crc\n",
      "Ignoring path: ./data/passim_output.parquet/.part-00190-99958234-2046-42a1-a219-16e6daa3408f-c000.snappy.parquet.crc\n",
      "Ignoring path: ./data/passim_output.parquet/.part-00086-99958234-2046-42a1-a219-16e6daa3408f-c000.snappy.parquet.crc\n",
      "Ignoring path: ./data/passim_output.parquet/.part-00194-99958234-2046-42a1-a219-16e6daa3408f-c000.snappy.parquet.crc\n",
      "Ignoring path: ./data/passim_output.parquet/.part-00139-99958234-2046-42a1-a219-16e6daa3408f-c000.snappy.parquet.crc\n",
      "Ignoring path: ./data/passim_output.parquet/.part-00087-99958234-2046-42a1-a219-16e6daa3408f-c000.snappy.parquet.crc\n",
      "Ignoring path: ./data/passim_output.parquet/.part-00081-99958234-2046-42a1-a219-16e6daa3408f-c000.snappy.parquet.crc\n",
      "Ignoring path: ./data/passim_output.parquet/.part-00151-99958234-2046-42a1-a219-16e6daa3408f-c000.snappy.parquet.crc\n",
      "Ignoring path: ./data/passim_output.parquet/.part-00071-99958234-2046-42a1-a219-16e6daa3408f-c000.snappy.parquet.crc\n",
      "Ignoring path: ./data/passim_output.parquet/.part-00174-99958234-2046-42a1-a219-16e6daa3408f-c000.snappy.parquet.crc\n",
      "Ignoring path: ./data/passim_output.parquet/.part-00020-99958234-2046-42a1-a219-16e6daa3408f-c000.snappy.parquet.crc\n",
      "Ignoring path: ./data/passim_output.parquet/.part-00092-99958234-2046-42a1-a219-16e6daa3408f-c000.snappy.parquet.crc\n",
      "Ignoring path: ./data/passim_output.parquet/.part-00046-99958234-2046-42a1-a219-16e6daa3408f-c000.snappy.parquet.crc\n",
      "Ignoring path: ./data/passim_output.parquet/.part-00068-99958234-2046-42a1-a219-16e6daa3408f-c000.snappy.parquet.crc\n",
      "Ignoring path: ./data/passim_output.parquet/.part-00026-99958234-2046-42a1-a219-16e6daa3408f-c000.snappy.parquet.crc\n",
      "Ignoring path: ./data/passim_output.parquet/.part-00161-99958234-2046-42a1-a219-16e6daa3408f-c000.snappy.parquet.crc\n",
      "Ignoring path: ./data/passim_output.parquet/.part-00032-99958234-2046-42a1-a219-16e6daa3408f-c000.snappy.parquet.crc\n",
      "Ignoring path: ./data/passim_output.parquet/.part-00120-99958234-2046-42a1-a219-16e6daa3408f-c000.snappy.parquet.crc\n",
      "Ignoring path: ./data/passim_output.parquet/.part-00005-99958234-2046-42a1-a219-16e6daa3408f-c000.snappy.parquet.crc\n",
      "Ignoring path: ./data/passim_output.parquet/.part-00054-99958234-2046-42a1-a219-16e6daa3408f-c000.snappy.parquet.crc\n",
      "Ignoring path: ./data/passim_output.parquet/.part-00107-99958234-2046-42a1-a219-16e6daa3408f-c000.snappy.parquet.crc\n",
      "Ignoring path: ./data/passim_output.parquet/.part-00029-99958234-2046-42a1-a219-16e6daa3408f-c000.snappy.parquet.crc\n",
      "Ignoring path: ./data/passim_output.parquet/.part-00034-99958234-2046-42a1-a219-16e6daa3408f-c000.snappy.parquet.crc\n",
      "Ignoring path: ./data/passim_output.parquet/.part-00141-99958234-2046-42a1-a219-16e6daa3408f-c000.snappy.parquet.crc\n",
      "Ignoring path: ./data/passim_output.parquet/.part-00049-99958234-2046-42a1-a219-16e6daa3408f-c000.snappy.parquet.crc\n",
      "Ignoring path: ./data/passim_output.parquet/.part-00164-99958234-2046-42a1-a219-16e6daa3408f-c000.snappy.parquet.crc\n",
      "Ignoring path: ./data/passim_output.parquet/.part-00124-99958234-2046-42a1-a219-16e6daa3408f-c000.snappy.parquet.crc\n",
      "Ignoring path: ./data/passim_output.parquet/.part-00176-99958234-2046-42a1-a219-16e6daa3408f-c000.snappy.parquet.crc\n",
      "Ignoring path: ./data/passim_output.parquet/.part-00168-99958234-2046-42a1-a219-16e6daa3408f-c000.snappy.parquet.crc\n",
      "Ignoring path: ./data/passim_output.parquet/.part-00162-99958234-2046-42a1-a219-16e6daa3408f-c000.snappy.parquet.crc\n",
      "Ignoring path: ./data/passim_output.parquet/.part-00129-99958234-2046-42a1-a219-16e6daa3408f-c000.snappy.parquet.crc\n",
      "Ignoring path: ./data/passim_output.parquet/.part-00101-99958234-2046-42a1-a219-16e6daa3408f-c000.snappy.parquet.crc\n",
      "Ignoring path: ./data/passim_output.parquet/.part-00172-99958234-2046-42a1-a219-16e6daa3408f-c000.snappy.parquet.crc\n",
      "Ignoring path: ./data/passim_output.parquet/.part-00059-99958234-2046-42a1-a219-16e6daa3408f-c000.snappy.parquet.crc\n",
      "Ignoring path: ./data/passim_output.parquet/.part-00093-99958234-2046-42a1-a219-16e6daa3408f-c000.snappy.parquet.crc\n",
      "Ignoring path: ./data/passim_output.parquet/.part-00023-99958234-2046-42a1-a219-16e6daa3408f-c000.snappy.parquet.crc\n",
      "Ignoring path: ./data/passim_output.parquet/.part-00008-99958234-2046-42a1-a219-16e6daa3408f-c000.snappy.parquet.crc\n"
     ]
    },
    {
     "name": "stdout",
     "output_type": "stream",
     "text": [
      "CPU times: user 7.24 s, sys: 3.98 s, total: 11.2 s\n",
      "Wall time: 12.4 s\n"
     ]
    }
   ],
   "source": [
    "%%time\n",
    "t = pq.read_table('./data/passim_output.parquet')"
   ]
  },
  {
   "cell_type": "code",
   "execution_count": 3,
   "metadata": {},
   "outputs": [
    {
     "name": "stdout",
     "output_type": "stream",
     "text": [
      "CPU times: user 5.37 s, sys: 1.86 s, total: 7.23 s\n",
      "Wall time: 7.02 s\n"
     ]
    }
   ],
   "source": [
    "%%time\n",
    "dataset = t.to_pandas()"
   ]
  },
  {
   "cell_type": "markdown",
   "metadata": {},
   "source": [
    "# Add image url column+exploring function\n",
    "## Image url"
   ]
  },
  {
   "cell_type": "code",
   "execution_count": 4,
   "metadata": {},
   "outputs": [],
   "source": [
    "def build_iiif_link(row):\n",
    "    \"\"\"\n",
    "    http://dhlabsrv8.epfl.ch/iiif_letemps/JDG_1995_11_10_38/full/full/0/default.jpg\n",
    "    \"\"\"\n",
    "    # racine des url d'images\n",
    "    base_url = \"http://dhlabsrv8.epfl.ch/iiif_letemps/\"\n",
    "    \n",
    "    # entier du numéro de page\n",
    "    page_nos = row[\"page_no\"]\n",
    "    \n",
    "    # format de l'id JDG-1967-08-31-a_Ar01001 dernière partie == junk\n",
    "    issue_id, article_id = row[\"id\"].split(\"_\")\n",
    "    \n",
    "    # format JDG-1967-08-31-a extraction du journal, année, mois, jour; édition == junk\n",
    "    journal, year, month, day, edition = issue_id.split('-')\n",
    "    links = [\n",
    "        \"{}{}_{}_{}_{}_{}/{}\".format(\n",
    "            base_url,\n",
    "            journal,\n",
    "            year,\n",
    "            month,\n",
    "            day,\n",
    "            page,\n",
    "            \"full/full/0/default.jpg\"\n",
    "        )\n",
    "        for page in page_nos\n",
    "    ]\n",
    "    return links[0]"
   ]
  },
  {
   "cell_type": "code",
   "execution_count": 5,
   "metadata": {},
   "outputs": [],
   "source": [
    "dataset.loc[:,\"iiif_links\"] = dataset.apply(build_iiif_link, axis=1)"
   ]
  },
  {
   "cell_type": "markdown",
   "metadata": {},
   "source": [
    "## Exploring function"
   ]
  },
  {
   "cell_type": "code",
   "execution_count": 6,
   "metadata": {},
   "outputs": [],
   "source": [
    "def print_cluster(cluster_id, clusters_df):\n",
    "    clusters = clusters_df[clusters_df[\"cluster\"]==cluster_id]\n",
    "    for row_id, row in clusters.iterrows():\n",
    "        print(\"{}\\t{}\\n{}\".format(row[\"cluster\"], row[\"id\"], row[\"text\"]))\n",
    "# used in explore_cluster"
   ]
  },
  {
   "cell_type": "code",
   "execution_count": 7,
   "metadata": {},
   "outputs": [],
   "source": [
    "def explore_clusters(clusters_df, n):\n",
    "    cluster_ids = list(set(clusters_df[\"cluster\"]))\n",
    "    random.shuffle(cluster_ids)\n",
    "    for cluster_id in cluster_ids[:n]:\n",
    "        print_cluster(cluster_id, clusters_df)\n",
    "        print(\"\\n************\\n\")\n",
    "        \n",
    "# idea : shuffle the list of ids. Print n random cluster. That mean each article in the cluster"
   ]
  },
  {
   "cell_type": "markdown",
   "metadata": {},
   "source": [
    "# Cluster dataset\n",
    "## Time Coverage"
   ]
  },
  {
   "cell_type": "code",
   "execution_count": 8,
   "metadata": {},
   "outputs": [],
   "source": [
    "import re\n",
    "f = lambda x: re.findall(\"[0-9]{1,4}-[0-9]{1,2}-[0-9]{1,2}\", x)[0]\n",
    "dataset.loc[:,'Publication Date'] = dataset['id'].apply(f)"
   ]
  },
  {
   "cell_type": "code",
   "execution_count": 9,
   "metadata": {},
   "outputs": [],
   "source": [
    "dataset['Publication Date'] = pd.to_datetime(dataset['Publication Date'])"
   ]
  },
  {
   "cell_type": "code",
   "execution_count": 10,
   "metadata": {},
   "outputs": [
    {
     "name": "stdout",
     "output_type": "stream",
     "text": [
      "CPU times: user 696 ms, sys: 96 ms, total: 792 ms\n",
      "Wall time: 793 ms\n"
     ]
    }
   ],
   "source": [
    "%%time\n",
    "cluster_group = dataset[['cluster','Publication Date']].groupby('cluster')\n",
    "cluster_dataset = cluster_group.max() - cluster_group.min()"
   ]
  },
  {
   "cell_type": "code",
   "execution_count": 35,
   "metadata": {},
   "outputs": [],
   "source": [
    "cluster_dataset['Time Coverage'] = cluster_dataset['Time Coverage'] / np.timedelta64(1, 'D')"
   ]
  },
  {
   "cell_type": "markdown",
   "metadata": {},
   "source": [
    "__Note :__ time coverage in days"
   ]
  },
  {
   "cell_type": "markdown",
   "metadata": {},
   "source": [
    "## Size Cluster"
   ]
  },
  {
   "cell_type": "code",
   "execution_count": 11,
   "metadata": {},
   "outputs": [],
   "source": [
    "cluster_dataset.loc[:,'Size'] = dataset['cluster'].value_counts().sort_index()\n",
    "cluster_dataset.columns = pd.Index(['Time Coverage','Size'])"
   ]
  },
  {
   "cell_type": "markdown",
   "metadata": {},
   "source": [
    "## Lexical Overlap\n",
    "### Functions"
   ]
  },
  {
   "cell_type": "code",
   "execution_count": 12,
   "metadata": {},
   "outputs": [],
   "source": [
    "def lexicaloverlap(row):\n",
    "    texts = row['text']\n",
    "    first = True\n",
    "    intersection = list()\n",
    "    for text in texts:\n",
    "        if(first):\n",
    "            first = False\n",
    "            intersection = re.sub('[().,;:!0-9\"{}\\][»«]','',text).lower().split()\n",
    "        else:\n",
    "            processing = re.sub('[().,;:!0-9\"{}\\][»«]','',text).lower().split()\n",
    "            intersection = np.intersect1d(processing, intersection)\n",
    "    return len(intersection)"
   ]
  },
  {
   "cell_type": "code",
   "execution_count": 13,
   "metadata": {},
   "outputs": [],
   "source": [
    "dataset = dataset.sort_values(by='cluster')"
   ]
  },
  {
   "cell_type": "code",
   "execution_count": 14,
   "metadata": {},
   "outputs": [],
   "source": [
    "def countmaxlength(row):\n",
    "    texts = row['text']\n",
    "    length_array = np.array([])\n",
    "    for text in texts:\n",
    "        length = len(re.sub('[().,;:!0-9\"{}\\][»«]','',text).lower().split())\n",
    "        length_array = np.insert(length_array,0,length)\n",
    "    return length_array.max()"
   ]
  },
  {
   "cell_type": "code",
   "execution_count": 15,
   "metadata": {},
   "outputs": [],
   "source": [
    "def apply_with_partition(dataset, agg_funct, partition):\n",
    "    last = 0\n",
    "    lengthsamples = 0\n",
    "    total = len(dataset['cluster'])\n",
    "    part = list()\n",
    "    for limit in partition:\n",
    "        lengthsamples = len(dataset[(dataset['cluster']>=last)&(dataset['cluster']<limit)]['cluster'])+lengthsamples\n",
    "        part.append(dataset[(dataset['cluster']>=last)&(dataset['cluster']<limit)].groupby('cluster').apply(agg_funct))\n",
    "        print('{}{} {}%'.format('#'*round(lengthsamples/total*100),'.'*(100-round(lengthsamples/total*100)),round(lengthsamples/total*100)))\n",
    "        last = limit\n",
    "    return pd.concat(part)"
   ]
  },
  {
   "cell_type": "markdown",
   "metadata": {},
   "source": [
    "### Overlap"
   ]
  },
  {
   "cell_type": "code",
   "execution_count": 16,
   "metadata": {},
   "outputs": [],
   "source": [
    "partition = [0,4000000,10000000000,26000000000,50000000000,65000000000,85000000000,95000000000,130000000000,170000000000,230000000000,1000000000000000]"
   ]
  },
  {
   "cell_type": "code",
   "execution_count": 17,
   "metadata": {
    "scrolled": false
   },
   "outputs": [
    {
     "name": "stdout",
     "output_type": "stream",
     "text": [
      ".................................................................................................... 0%\n",
      "#########........................................................................................... 9%\n",
      "################.................................................................................... 16%\n",
      "##############################...................................................................... 30%\n",
      "#########################################........................................................... 41%\n",
      "####################################################................................................ 52%\n",
      "############################################################........................................ 60%\n",
      "####################################################################................................ 68%\n",
      "################################################################################.................... 80%\n",
      "#########################################################################################........... 89%\n",
      "##################################################################################################.. 98%\n",
      "#################################################################################################### 100%\n",
      "CPU times: user 7min 13s, sys: 64 ms, total: 7min 13s\n",
      "Wall time: 7min 13s\n"
     ]
    }
   ],
   "source": [
    "%%time\n",
    "overlap_serie = apply_with_partition(dataset, lexicaloverlap, partition)"
   ]
  },
  {
   "cell_type": "code",
   "execution_count": 18,
   "metadata": {},
   "outputs": [
    {
     "data": {
      "text/html": [
       "<div>\n",
       "<style scoped>\n",
       "    .dataframe tbody tr th:only-of-type {\n",
       "        vertical-align: middle;\n",
       "    }\n",
       "\n",
       "    .dataframe tbody tr th {\n",
       "        vertical-align: top;\n",
       "    }\n",
       "\n",
       "    .dataframe thead th {\n",
       "        text-align: right;\n",
       "    }\n",
       "</style>\n",
       "<table border=\"1\" class=\"dataframe\">\n",
       "  <thead>\n",
       "    <tr style=\"text-align: right;\">\n",
       "      <th></th>\n",
       "      <th>Time Coverage</th>\n",
       "      <th>Size</th>\n",
       "      <th>Lexical Overlap</th>\n",
       "    </tr>\n",
       "    <tr>\n",
       "      <th>cluster</th>\n",
       "      <th></th>\n",
       "      <th></th>\n",
       "      <th></th>\n",
       "    </tr>\n",
       "  </thead>\n",
       "  <tbody>\n",
       "    <tr>\n",
       "      <th>0</th>\n",
       "      <td>0 days</td>\n",
       "      <td>3</td>\n",
       "      <td>50.0</td>\n",
       "    </tr>\n",
       "    <tr>\n",
       "      <th>1</th>\n",
       "      <td>0 days</td>\n",
       "      <td>2</td>\n",
       "      <td>192.0</td>\n",
       "    </tr>\n",
       "    <tr>\n",
       "      <th>2</th>\n",
       "      <td>181 days</td>\n",
       "      <td>2</td>\n",
       "      <td>36.0</td>\n",
       "    </tr>\n",
       "    <tr>\n",
       "      <th>3</th>\n",
       "      <td>0 days</td>\n",
       "      <td>2</td>\n",
       "      <td>85.0</td>\n",
       "    </tr>\n",
       "    <tr>\n",
       "      <th>4</th>\n",
       "      <td>0 days</td>\n",
       "      <td>2</td>\n",
       "      <td>189.0</td>\n",
       "    </tr>\n",
       "  </tbody>\n",
       "</table>\n",
       "</div>"
      ],
      "text/plain": [
       "        Time Coverage  Size  Lexical Overlap\n",
       "cluster                                     \n",
       "0              0 days     3             50.0\n",
       "1              0 days     2            192.0\n",
       "2            181 days     2             36.0\n",
       "3              0 days     2             85.0\n",
       "4              0 days     2            189.0"
      ]
     },
     "execution_count": 18,
     "metadata": {},
     "output_type": "execute_result"
    }
   ],
   "source": [
    "overlap_serie.columns = pd.Index(['Lexical Overlap'])\n",
    "cluster_dataset.loc[:,'Lexical Overlap'] = overlap_serie['Lexical Overlap']\n",
    "cluster_dataset.head()"
   ]
  },
  {
   "cell_type": "markdown",
   "metadata": {},
   "source": [
    "### Maximal text length"
   ]
  },
  {
   "cell_type": "code",
   "execution_count": 19,
   "metadata": {},
   "outputs": [
    {
     "name": "stdout",
     "output_type": "stream",
     "text": [
      ".................................................................................................... 0%\n",
      "#########........................................................................................... 9%\n",
      "################.................................................................................... 16%\n",
      "##############################...................................................................... 30%\n",
      "#########################################........................................................... 41%\n",
      "####################################################................................................ 52%\n",
      "############################################################........................................ 60%\n",
      "####################################################################................................ 68%\n",
      "################################################################################.................... 80%\n",
      "#########################################################################################........... 89%\n",
      "##################################################################################################.. 98%\n",
      "#################################################################################################### 100%\n",
      "CPU times: user 5min 4s, sys: 1.43 s, total: 5min 6s\n",
      "Wall time: 5min 5s\n"
     ]
    }
   ],
   "source": [
    "%%time\n",
    "maximaltextlength_serie = apply_with_partition(dataset, countmaxlength, partition)"
   ]
  },
  {
   "cell_type": "code",
   "execution_count": 20,
   "metadata": {},
   "outputs": [],
   "source": [
    "maximaltextlength_serie.columns = pd.Index(['Max text length'])\n",
    "cluster_dataset.loc[:,'Max text length'] = maximaltextlength_serie['Max text length']"
   ]
  },
  {
   "cell_type": "markdown",
   "metadata": {},
   "source": [
    "### Relative Lexical Overlap"
   ]
  },
  {
   "cell_type": "code",
   "execution_count": 21,
   "metadata": {},
   "outputs": [],
   "source": [
    "cluster_dataset['Relative Overlap']=cluster_dataset['Lexical Overlap']/cluster_dataset['Max text length']"
   ]
  },
  {
   "cell_type": "markdown",
   "metadata": {},
   "source": [
    "# Save Cluster Dataset"
   ]
  },
  {
   "cell_type": "code",
   "execution_count": 40,
   "metadata": {},
   "outputs": [],
   "source": [
    "cluster_dataset.to_pickle('./data/cluster_dataset.pickle')\n",
    "cluster_dataset.to_csv('./data/cluster_dataset.csv')"
   ]
  },
  {
   "cell_type": "code",
   "execution_count": null,
   "metadata": {},
   "outputs": [],
   "source": []
  },
  {
   "cell_type": "code",
   "execution_count": null,
   "metadata": {},
   "outputs": [],
   "source": []
  }
 ],
 "metadata": {
  "kernelspec": {
   "display_name": "Python 3",
   "language": "python",
   "name": "python3"
  },
  "language_info": {
   "codemirror_mode": {
    "name": "ipython",
    "version": 3
   },
   "file_extension": ".py",
   "mimetype": "text/x-python",
   "name": "python",
   "nbconvert_exporter": "python",
   "pygments_lexer": "ipython3",
   "version": "3.5.0"
  },
  "toc": {
   "nav_menu": {
    "height": "270px",
    "width": "252px"
   },
   "navigate_menu": true,
   "number_sections": true,
   "sideBar": true,
   "threshold": 4,
   "toc_cell": false,
   "toc_section_display": "block",
   "toc_window_display": true
  }
 },
 "nbformat": 4,
 "nbformat_minor": 2
}
